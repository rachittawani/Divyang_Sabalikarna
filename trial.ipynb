{
 "cells": [
  {
   "cell_type": "code",
   "execution_count": 1,
   "id": "010f3898",
   "metadata": {
    "execution": {
     "iopub.execute_input": "2022-06-08T12:31:56.678949Z",
     "iopub.status.busy": "2022-06-08T12:31:56.678949Z",
     "iopub.status.idle": "2022-06-08T12:31:56.709192Z",
     "shell.execute_reply": "2022-06-08T12:31:56.707569Z"
    }
   },
   "outputs": [
    {
     "name": "stdout",
     "output_type": "stream",
     "text": [
      "it's working\n"
     ]
    }
   ],
   "source": [
    "print(\"it's working\")"
   ]
  }
 ],
 "metadata": {
  "kernelspec": {
   "display_name": "Python 3 (ipykernel)",
   "language": "python",
   "name": "python3"
  },
  "language_info": {
   "codemirror_mode": {
    "name": "ipython",
    "version": 3
   },
   "file_extension": ".py",
   "mimetype": "text/x-python",
   "name": "python",
   "nbconvert_exporter": "python",
   "pygments_lexer": "ipython3",
   "version": "3.10.4"
  }
 },
 "nbformat": 4,
 "nbformat_minor": 5
}
