{
 "cells": [
  {
   "cell_type": "code",
   "execution_count": 4,
   "id": "0a9b06b8",
   "metadata": {},
   "outputs": [],
   "source": [
    "import gtts \n",
    "import os\n",
    "from playsound import playsound"
   ]
  },
  {
   "cell_type": "code",
   "execution_count": 5,
   "id": "0bdbe9bf",
   "metadata": {
    "scrolled": true
   },
   "outputs": [],
   "source": [
    "text=input()\n",
    "t1 = gtts.gTTS(text) \n",
    "t1.save(\"t2s.mp3\")\n",
    "t1.save(\"t2s.wav\")\n",
    "playsound(\"t2s.mp3\") \n",
    "os.remove(\"t2s.mp3\")"
   ]
  },
  {
   "cell_type": "code",
   "execution_count": null,
   "id": "2101bb77",
   "metadata": {},
   "outputs": [],
   "source": []
  }
 ],
 "metadata": {
  "interpreter": {
   "hash": "369f2c481f4da34e4445cda3fffd2e751bd1c4d706f27375911949ba6bb62e1c"
  },
  "kernelspec": {
   "display_name": "Python 3.10.4 64-bit",
   "language": "python",
   "name": "python3"
  },
  "language_info": {
   "codemirror_mode": {
    "name": "ipython",
    "version": 3
   },
   "file_extension": ".py",
   "mimetype": "text/x-python",
   "name": "python",
   "nbconvert_exporter": "python",
   "pygments_lexer": "ipython3",
   "version": "3.10.4"
  }
 },
 "nbformat": 4,
 "nbformat_minor": 5
}
