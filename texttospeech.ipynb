{
 "cells": [
  {
   "cell_type": "code",
   "execution_count": 1,
   "id": "0a9b06b8",
   "metadata": {},
   "outputs": [],
   "source": [
    "import gtts \n",
    "import os\n",
    "from playsound import playsound"
   ]
  },
  {
   "cell_type": "code",
   "execution_count": 2,
   "id": "0bdbe9bf",
   "metadata": {
    "scrolled": true
   },
   "outputs": [
    {
     "name": "stdout",
     "output_type": "stream",
     "text": [
      "ritesh\n"
     ]
    }
   ],
   "source": [
    "text=input()\n",
    "t1 = gtts.gTTS(text) \n",
    "t1.save(\"t2s.mp3\")\n",
    "t1.save(\"t2s.wav\")\n",
    "playsound(\"t2s.mp3\") "
   ]
  },
  {
   "cell_type": "code",
   "execution_count": null,
   "id": "2101bb77",
   "metadata": {},
   "outputs": [],
   "source": []
  }
 ],
 "metadata": {
  "kernelspec": {
   "display_name": "Python 3 (ipykernel)",
   "language": "python",
   "name": "python3"
  },
  "language_info": {
   "codemirror_mode": {
    "name": "ipython",
    "version": 3
   },
   "file_extension": ".py",
   "mimetype": "text/x-python",
   "name": "python",
   "nbconvert_exporter": "python",
   "pygments_lexer": "ipython3",
   "version": "3.9.12"
  }
 },
 "nbformat": 4,
 "nbformat_minor": 5
}
