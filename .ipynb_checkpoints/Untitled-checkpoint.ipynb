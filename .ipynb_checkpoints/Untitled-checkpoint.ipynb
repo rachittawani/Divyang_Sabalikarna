{
 "cells": [
  {
   "cell_type": "code",
   "execution_count": 3,
   "id": "2c2e8b41",
   "metadata": {},
   "outputs": [
    {
     "ename": "ImportError",
     "evalue": "cannot import name 'string_int_label_map_pb2' from 'protos' (C:\\Users\\arnav\\AppData\\Roaming\\Python\\Python39\\site-packages\\protos\\__init__.py)",
     "output_type": "error",
     "traceback": [
      "\u001b[1;31m---------------------------------------------------------------------------\u001b[0m",
      "\u001b[1;31mImportError\u001b[0m                               Traceback (most recent call last)",
      "\u001b[1;32m~\\AppData\\Local\\Temp/ipykernel_12360/993173634.py\u001b[0m in \u001b[0;36m<module>\u001b[1;34m\u001b[0m\n\u001b[0;32m      4\u001b[0m \u001b[1;32mimport\u001b[0m \u001b[0muuid\u001b[0m\u001b[1;33m\u001b[0m\u001b[1;33m\u001b[0m\u001b[0m\n\u001b[0;32m      5\u001b[0m \u001b[1;32mimport\u001b[0m \u001b[0mtensorflow\u001b[0m\u001b[1;33m\u001b[0m\u001b[1;33m\u001b[0m\u001b[0m\n\u001b[1;32m----> 6\u001b[1;33m \u001b[1;32mfrom\u001b[0m \u001b[0mprotos\u001b[0m \u001b[1;32mimport\u001b[0m \u001b[0mstring_int_label_map_pb2\u001b[0m\u001b[1;33m\u001b[0m\u001b[1;33m\u001b[0m\u001b[0m\n\u001b[0m",
      "\u001b[1;31mImportError\u001b[0m: cannot import name 'string_int_label_map_pb2' from 'protos' (C:\\Users\\arnav\\AppData\\Roaming\\Python\\Python39\\site-packages\\protos\\__init__.py)"
     ]
    }
   ],
   "source": [
    "import cv2\n",
    "import os\n",
    "import time \n",
    "import uuid\n",
    "import tensorflow\n",
    "from object_detection.protos import "
   ]
  },
  {
   "cell_type": "code",
   "execution_count": 3,
   "id": "9a217199",
   "metadata": {},
   "outputs": [],
   "source": [
    "IMAGES_PATH = 'Tensorflow/workspace/images/collectedImages'"
   ]
  },
  {
   "cell_type": "code",
   "execution_count": 4,
   "id": "268b6e60",
   "metadata": {},
   "outputs": [],
   "source": [
    "labels = ['hello','thanks','yes','no','iloveyou']\n",
    "number_imgs = 15"
   ]
  },
  {
   "cell_type": "code",
   "execution_count": 5,
   "id": "2f7c9803",
   "metadata": {},
   "outputs": [],
   "source": [
    "# for label in labels:\n",
    "#     !mkdir {'Tensorflow\\workspace\\images\\collectedImages\\\\'+label}\n",
    "#     cap = cv2.VideoCapture(0)\n",
    "#     print('Collecting Images for {}'.format(label))\n",
    "#     time.sleep(5)\n",
    "#     for imgnum in range(number_imgs):\n",
    "#         ret, frame = cap.read()\n",
    "#         imgname = os.path.join(IMAGES_PATH, label, label+'{}.jpg'.format(str(uuid.uuid1())))\n",
    "#         cv2.imwrite(imgname,frame)\n",
    "#         cv2.imshow('frame',frame)\n",
    "#         time.sleep(2)\n",
    "#         if cv2.waitKey(1) & 0xFF == ord('q'):\n",
    "#             break\n",
    "#     cap.release()"
   ]
  },
  {
   "cell_type": "code",
   "execution_count": 6,
   "id": "99c64c22",
   "metadata": {},
   "outputs": [
    {
     "name": "stdout",
     "output_type": "stream",
     "text": [
      "Defaulting to user installation because normal site-packages is not writeable\n",
      "Requirement already satisfied: pyqt5 in c:\\users\\arnav\\appdata\\roaming\\python\\python39\\site-packages (5.15.6)\n",
      "Requirement already satisfied: lxml in c:\\users\\arnav\\appdata\\roaming\\python\\python39\\site-packages (4.6.4)\n",
      "Requirement already satisfied: PyQt5-Qt5>=5.15.2 in c:\\users\\arnav\\appdata\\roaming\\python\\python39\\site-packages (from pyqt5) (5.15.2)\n",
      "Requirement already satisfied: PyQt5-sip<13,>=12.8 in c:\\users\\arnav\\appdata\\roaming\\python\\python39\\site-packages (from pyqt5) (12.9.0)\n"
     ]
    }
   ],
   "source": [
    "!pip install --upgrade pyqt5 lxml"
   ]
  },
  {
   "cell_type": "code",
   "execution_count": 7,
   "id": "37f22caa",
   "metadata": {},
   "outputs": [
    {
     "name": "stdout",
     "output_type": "stream",
     "text": [
      "Package                           Version\n",
      "--------------------------------- ---------\n",
      "absl-py                           1.0.0\n",
      "argon2-cffi                       21.1.0\n",
      "astunparse                        1.6.3\n",
      "attrs                             21.2.0\n",
      "backcall                          0.2.0\n",
      "backports.entry-points-selectable 1.1.0\n",
      "bleach                            4.1.0\n",
      "cachetools                        4.2.4\n",
      "certifi                           2021.10.8\n",
      "cffi                              1.14.6\n",
      "charset-normalizer                2.0.8\n",
      "colorama                          0.4.4\n",
      "cycler                            0.10.0\n",
      "debugpy                           1.5.0\n",
      "decorator                         5.1.0\n",
      "defusedxml                        0.7.1\n",
      "distlib                           0.3.3\n",
      "entrypoints                       0.3\n",
      "filelock                          3.3.2\n",
      "flatbuffers                       2.0\n",
      "gast                              0.4.0\n",
      "google-auth                       2.3.3\n",
      "google-auth-oauthlib              0.4.6\n",
      "google-pasta                      0.2.0\n",
      "greenlet                          1.1.2\n",
      "grpcio                            1.42.0\n",
      "h5py                              3.6.0\n",
      "idna                              3.3\n",
      "importlib-metadata                4.8.2\n",
      "ipykernel                         6.4.1\n",
      "ipython                           7.28.0\n",
      "ipython-genutils                  0.2.0\n",
      "ipywidgets                        7.6.5\n",
      "jedi                              0.18.0\n",
      "Jinja2                            3.0.2\n",
      "joblib                            1.1.0\n",
      "jsonschema                        4.1.0\n",
      "jupyter                           1.0.0\n",
      "jupyter-client                    7.0.6\n",
      "jupyter-console                   6.4.0\n",
      "jupyter-contrib-core              0.3.3\n",
      "jupyter-contrib-nbextensions      0.5.1\n",
      "jupyter-core                      4.8.1\n",
      "jupyter-highlight-selected-word   0.2.0\n",
      "jupyter-latex-envs                1.4.6\n",
      "jupyter-nbextensions-configurator 0.4.1\n",
      "jupyterlab-pygments               0.1.2\n",
      "jupyterlab-widgets                1.0.2\n",
      "jupyterthemes                     0.20.0\n",
      "keras                             2.7.0\n",
      "Keras-Preprocessing               1.1.2\n",
      "kiwisolver                        1.3.2\n",
      "lesscpy                           0.15.0\n",
      "libclang                          12.0.0\n",
      "lxml                              4.6.4\n",
      "Markdown                          3.3.6\n",
      "MarkupSafe                        2.0.1\n",
      "matplotlib                        3.4.3\n",
      "matplotlib-inline                 0.1.3\n",
      "mistune                           0.8.4\n",
      "nbclient                          0.5.4\n",
      "nbconvert                         6.2.0\n",
      "nbformat                          5.1.3\n",
      "nest-asyncio                      1.5.1\n",
      "notebook                          6.4.4\n",
      "numpy                             1.21.3\n",
      "oauthlib                          3.1.1\n",
      "opencv-python                     4.5.4.58\n",
      "opt-einsum                        3.3.0\n",
      "packaging                         21.0\n",
      "pandas                            1.3.4\n",
      "pandasql                          0.7.3\n",
      "pandocfilters                     1.5.0\n",
      "parso                             0.8.2\n",
      "pickleshare                       0.7.5\n",
      "Pillow                            8.4.0\n",
      "pip                               21.3.1\n",
      "platformdirs                      2.4.0\n",
      "ply                               3.11\n",
      "prometheus-client                 0.11.0\n",
      "prompt-toolkit                    3.0.20\n",
      "protobuf                          3.19.1\n",
      "pyasn1                            0.4.8\n",
      "pyasn1-modules                    0.2.8\n",
      "pycparser                         2.20\n",
      "Pygments                          2.10.0\n",
      "pyparsing                         2.4.7\n",
      "PyQt5                             5.15.6\n",
      "PyQt5-Qt5                         5.15.2\n",
      "PyQt5-sip                         12.9.0\n",
      "pyrsistent                        0.18.0\n",
      "python-dateutil                   2.8.2\n",
      "pytz                              2021.3\n",
      "pywin32                           302\n",
      "pywinpty                          1.1.4\n",
      "PyYAML                            6.0\n",
      "pyzmq                             22.3.0\n",
      "qtconsole                         5.1.1\n",
      "QtPy                              1.11.2\n",
      "requests                          2.26.0\n",
      "requests-oauthlib                 1.3.0\n",
      "rsa                               4.8\n",
      "scikit-learn                      1.0.1\n",
      "scipy                             1.7.1\n",
      "Send2Trash                        1.8.0\n",
      "setuptools                        57.4.0\n",
      "six                               1.16.0\n",
      "SQLAlchemy                        1.4.26\n",
      "tensorboard                       2.7.0\n",
      "tensorboard-data-server           0.6.1\n",
      "tensorboard-plugin-wit            1.8.0\n",
      "tensorflow                        2.7.0\n",
      "tensorflow-estimator              2.7.0\n",
      "tensorflow-io-gcs-filesystem      0.22.0\n",
      "termcolor                         1.1.0\n",
      "terminado                         0.12.1\n",
      "testpath                          0.5.0\n",
      "threadpoolctl                     3.0.0\n",
      "tornado                           6.1\n",
      "traitlets                         5.1.0\n",
      "typing_extensions                 4.0.0\n",
      "urllib3                           1.26.7\n",
      "virtualenv                        20.9.0\n",
      "wcwidth                           0.2.5\n",
      "webencodings                      0.5.1\n",
      "Werkzeug                          2.0.2\n",
      "wheel                             0.37.0\n",
      "widgetsnbextension                3.5.1\n",
      "wrapt                             1.13.3\n",
      "zipp                              3.6.0\n"
     ]
    }
   ],
   "source": [
    "!pip list"
   ]
  },
  {
   "cell_type": "code",
   "execution_count": 8,
   "id": "87fc3b71",
   "metadata": {},
   "outputs": [],
   "source": [
    "LABELING_PATH = os.path.join('Tensorflow', 'labelImmg')"
   ]
  },
  {
   "cell_type": "code",
   "execution_count": 9,
   "id": "11e5c935",
   "metadata": {},
   "outputs": [
    {
     "name": "stderr",
     "output_type": "stream",
     "text": [
      "The system cannot find the path specified.\n"
     ]
    }
   ],
   "source": [
    "!cd {LABELING_PATH} && python labelImg.py"
   ]
  },
  {
   "cell_type": "code",
   "execution_count": null,
   "id": "270d8325",
   "metadata": {},
   "outputs": [],
   "source": []
  }
 ],
 "metadata": {
  "kernelspec": {
   "display_name": "tfodj",
   "language": "python",
   "name": "tfodj"
  },
  "language_info": {
   "codemirror_mode": {
    "name": "ipython",
    "version": 3
   },
   "file_extension": ".py",
   "mimetype": "text/x-python",
   "name": "python",
   "nbconvert_exporter": "python",
   "pygments_lexer": "ipython3",
   "version": "3.9.7"
  }
 },
 "nbformat": 4,
 "nbformat_minor": 5
}
